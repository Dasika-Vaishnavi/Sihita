{
 "cells": [
  {
   "cell_type": "code",
   "execution_count": 1,
   "id": "b0a3d21d",
   "metadata": {
    "_cell_guid": "b1076dfc-b9ad-4769-8c92-a6c4dae69d19",
    "_uuid": "8f2839f25d086af736a60e9eeb907d3b93b6e0e5",
    "execution": {
     "iopub.execute_input": "2022-07-03T02:26:01.016078Z",
     "iopub.status.busy": "2022-07-03T02:26:01.015331Z",
     "iopub.status.idle": "2022-07-03T02:26:08.337097Z",
     "shell.execute_reply": "2022-07-03T02:26:08.336510Z",
     "shell.execute_reply.started": "2022-07-03T02:25:32.559928Z"
    },
    "papermill": {
     "duration": 7.352076,
     "end_time": "2022-07-03T02:26:08.337278",
     "exception": false,
     "start_time": "2022-07-03T02:26:00.985202",
     "status": "completed"
    },
    "tags": []
   },
   "outputs": [],
   "source": [
    "import os\n",
    "import cv2\n",
    "import random\n",
    "import numpy as np\n",
    "import pandas as pd\n",
    "import matplotlib.pyplot as plt\n",
    "\n",
    "\n",
    "import tensorflow as tf\n",
    "from tensorflow.keras import backend as K\n",
    "from tensorflow.keras.models import Model\n",
    "from tensorflow.keras.layers import Input, Conv2D, MaxPooling2D, Reshape, Bidirectional, LSTM, Dense, Lambda, Activation, BatchNormalization, Dropout\n",
    "from tensorflow.keras.optimizers import Adam\n",
    "from skimage import morphology"
   ]
  },
  {
   "cell_type": "markdown",
   "id": "c0f3e19d",
   "metadata": {
    "papermill": {
     "duration": 0.017298,
     "end_time": "2022-07-03T02:26:08.372952",
     "exception": false,
     "start_time": "2022-07-03T02:26:08.355654",
     "status": "completed"
    },
    "tags": []
   },
   "source": [
    "# Load and view data"
   ]
  },
  {
   "cell_type": "code",
   "execution_count": 2,
   "id": "432d8996",
   "metadata": {
    "execution": {
     "iopub.execute_input": "2022-07-03T02:26:08.411266Z",
     "iopub.status.busy": "2022-07-03T02:26:08.410444Z",
     "iopub.status.idle": "2022-07-03T02:27:11.674217Z",
     "shell.execute_reply": "2022-07-03T02:27:11.673704Z"
    },
    "papermill": {
     "duration": 63.284038,
     "end_time": "2022-07-03T02:27:11.674405",
     "exception": false,
     "start_time": "2022-07-03T02:26:08.390367",
     "status": "completed"
    },
    "tags": []
   },
   "outputs": [],
   "source": [
    "class Sample:\n",
    "    \"\"\" Sample from the dataset \"\"\"\n",
    "\n",
    "    def __init__(self, gtText, filePath):\n",
    "        self.gtText = gtText\n",
    "        self.filePath = filePath\n",
    "\n",
    "\n",
    "filePath = '/kaggle/input/iam-handwriting-word-database/'\n",
    "data = open(filePath + 'words_new.txt')\n",
    "samples = []\n",
    "bad_samples = []\n",
    "bad_samples_reference = ['a01-117-05-02.png', 'r06-022-03-05.png']\n",
    "for line in data:\n",
    "    # ignore comment line\n",
    "\n",
    "    if not line or line[0] == '#':\n",
    "        continue\n",
    "\n",
    "    lineSplit = line.strip().split(' ')  ## remove the space and split with ' '\n",
    "    # assert len(lineSplit) >= 9\n",
    "    if lineSplit[0] == 'a01-117-05-02' or lineSplit[0] == 'r06-022-03-05':\n",
    "        continue\n",
    "    # filename: part1-part2-part3 --> part1/part1-part2/part1-part2-part3.png\n",
    "    fileNameSplit = lineSplit[0].split('-')\n",
    "    fileName = filePath + 'iam_words/words/' + fileNameSplit[0] + '/' + fileNameSplit[0] + '-' + fileNameSplit[1] + '/' + \\\n",
    "               lineSplit[0] + '.png'\n",
    "\n",
    "    # GT text are columns starting at 10\n",
    "    # see the lines.txt and check where the GT text starts, in this case it is 10\n",
    "    gtText = lineSplit[8]\n",
    "\n",
    "    # check if image is not empty\n",
    "    if not os.path.getsize(fileName):\n",
    "        bad_samples.append(lineSplit[0] + '.png')\n",
    "        continue\n",
    "\n",
    "    # put sample into list\n",
    "    samples.append(Sample(gtText, fileName))\n",
    "\n",
    "\n",
    "\n",
    "##plt.figure(figsize=(15, 10))\n",
    "########### figura data #############\n",
    "#for i in range(6):\n",
    "#    ax = plt.subplot(2, 3, i+1)\n",
    "#    img_dir = samples[i].filePath\n",
    "#    image = cv2.imread(img_dir, cv2.IMREAD_GRAYSCALE)\n",
    "#    plt.imshow(image, cmap = 'gray')\n",
    "#    plt.title(samples[i].gtText, fontsize=12)\n",
    "#    plt.axis('off')\n",
    "\n",
    "#plt.subplots_adjust(wspace=0.2, hspace=-0.8)"
   ]
  },
  {
   "cell_type": "code",
   "execution_count": 3,
   "id": "ef7c3ae3",
   "metadata": {
    "execution": {
     "iopub.execute_input": "2022-07-03T02:27:11.715391Z",
     "iopub.status.busy": "2022-07-03T02:27:11.714735Z",
     "iopub.status.idle": "2022-07-03T02:27:11.717017Z",
     "shell.execute_reply": "2022-07-03T02:27:11.717416Z"
    },
    "papermill": {
     "duration": 0.024557,
     "end_time": "2022-07-03T02:27:11.717546",
     "exception": false,
     "start_time": "2022-07-03T02:27:11.692989",
     "status": "completed"
    },
    "tags": []
   },
   "outputs": [],
   "source": [
    "def containsNumber(value):\n",
    "    for character in value:\n",
    "        if character.isdigit():\n",
    "            return True\n",
    "    return False"
   ]
  },
  {
   "cell_type": "markdown",
   "id": "40bc1390",
   "metadata": {
    "papermill": {
     "duration": 0.017379,
     "end_time": "2022-07-03T02:27:11.752357",
     "exception": false,
     "start_time": "2022-07-03T02:27:11.734978",
     "status": "completed"
    },
    "tags": []
   },
   "source": [
    "# Preparing the labels for CTC Loss"
   ]
  },
  {
   "cell_type": "code",
   "execution_count": 4,
   "id": "14b358e0",
   "metadata": {
    "execution": {
     "iopub.execute_input": "2022-07-03T02:27:11.794444Z",
     "iopub.status.busy": "2022-07-03T02:27:11.791268Z",
     "iopub.status.idle": "2022-07-03T02:27:11.797108Z",
     "shell.execute_reply": "2022-07-03T02:27:11.796621Z"
    },
    "papermill": {
     "duration": 0.027409,
     "end_time": "2022-07-03T02:27:11.797220",
     "exception": false,
     "start_time": "2022-07-03T02:27:11.769811",
     "status": "completed"
    },
    "tags": []
   },
   "outputs": [],
   "source": [
    "alphabets = u\"ABCDEFGHIJKLMNOPQRSTUVWXYZ-' \"\n",
    "max_str_len = 24 # max length of input labels\n",
    "num_of_characters = len(alphabets) + 1 # +1 for ctc pseudo blank\n",
    "num_of_timestamps = 64 # max length of predicted labels\n",
    "\n",
    "\n",
    "def label_to_num(label):\n",
    "    label_num = []\n",
    "    for ch in label:\n",
    "        label_num.append(alphabets.find(ch))\n",
    "        \n",
    "    return np.array(label_num)\n",
    "\n",
    "def num_to_label(num):\n",
    "    ret = \"\"\n",
    "    for ch in num:\n",
    "        if ch == -1:  # CTC Blank\n",
    "            break\n",
    "        else:\n",
    "            ret+=alphabets[ch]\n",
    "    return ret"
   ]
  },
  {
   "cell_type": "markdown",
   "id": "fb79d0ed",
   "metadata": {
    "papermill": {
     "duration": 0.017429,
     "end_time": "2022-07-03T02:27:11.833351",
     "exception": false,
     "start_time": "2022-07-03T02:27:11.815922",
     "status": "completed"
    },
    "tags": []
   },
   "source": [
    "# model"
   ]
  },
  {
   "cell_type": "code",
   "execution_count": 5,
   "id": "b23b2342",
   "metadata": {
    "execution": {
     "iopub.execute_input": "2022-07-03T02:27:11.880965Z",
     "iopub.status.busy": "2022-07-03T02:27:11.876272Z",
     "iopub.status.idle": "2022-07-03T02:27:16.047397Z",
     "shell.execute_reply": "2022-07-03T02:27:16.046863Z"
    },
    "papermill": {
     "duration": 4.19622,
     "end_time": "2022-07-03T02:27:16.047516",
     "exception": false,
     "start_time": "2022-07-03T02:27:11.851296",
     "status": "completed"
    },
    "tags": []
   },
   "outputs": [
    {
     "name": "stderr",
     "output_type": "stream",
     "text": [
      "2022-07-03 02:27:11.981796: I tensorflow/stream_executor/cuda/cuda_gpu_executor.cc:937] successful NUMA node read from SysFS had negative value (-1), but there must be at least one NUMA node, so returning NUMA node zero\n",
      "2022-07-03 02:27:12.082880: I tensorflow/stream_executor/cuda/cuda_gpu_executor.cc:937] successful NUMA node read from SysFS had negative value (-1), but there must be at least one NUMA node, so returning NUMA node zero\n",
      "2022-07-03 02:27:12.083683: I tensorflow/stream_executor/cuda/cuda_gpu_executor.cc:937] successful NUMA node read from SysFS had negative value (-1), but there must be at least one NUMA node, so returning NUMA node zero\n",
      "2022-07-03 02:27:12.084765: I tensorflow/core/platform/cpu_feature_guard.cc:142] This TensorFlow binary is optimized with oneAPI Deep Neural Network Library (oneDNN) to use the following CPU instructions in performance-critical operations:  AVX2 AVX512F FMA\n",
      "To enable them in other operations, rebuild TensorFlow with the appropriate compiler flags.\n",
      "2022-07-03 02:27:12.086019: I tensorflow/stream_executor/cuda/cuda_gpu_executor.cc:937] successful NUMA node read from SysFS had negative value (-1), but there must be at least one NUMA node, so returning NUMA node zero\n",
      "2022-07-03 02:27:12.086709: I tensorflow/stream_executor/cuda/cuda_gpu_executor.cc:937] successful NUMA node read from SysFS had negative value (-1), but there must be at least one NUMA node, so returning NUMA node zero\n",
      "2022-07-03 02:27:12.087346: I tensorflow/stream_executor/cuda/cuda_gpu_executor.cc:937] successful NUMA node read from SysFS had negative value (-1), but there must be at least one NUMA node, so returning NUMA node zero\n",
      "2022-07-03 02:27:14.541836: I tensorflow/stream_executor/cuda/cuda_gpu_executor.cc:937] successful NUMA node read from SysFS had negative value (-1), but there must be at least one NUMA node, so returning NUMA node zero\n",
      "2022-07-03 02:27:14.542699: I tensorflow/stream_executor/cuda/cuda_gpu_executor.cc:937] successful NUMA node read from SysFS had negative value (-1), but there must be at least one NUMA node, so returning NUMA node zero\n",
      "2022-07-03 02:27:14.543370: I tensorflow/stream_executor/cuda/cuda_gpu_executor.cc:937] successful NUMA node read from SysFS had negative value (-1), but there must be at least one NUMA node, so returning NUMA node zero\n",
      "2022-07-03 02:27:14.543953: I tensorflow/core/common_runtime/gpu/gpu_device.cc:1510] Created device /job:localhost/replica:0/task:0/device:GPU:0 with 15403 MB memory:  -> device: 0, name: Tesla P100-PCIE-16GB, pci bus id: 0000:00:04.0, compute capability: 6.0\n"
     ]
    },
    {
     "name": "stdout",
     "output_type": "stream",
     "text": [
      "Model: \"model\"\n",
      "_________________________________________________________________\n",
      "Layer (type)                 Output Shape              Param #   \n",
      "=================================================================\n",
      "input (InputLayer)           [(None, 256, 64, 1)]      0         \n",
      "_________________________________________________________________\n",
      "conv1 (Conv2D)               (None, 256, 64, 32)       320       \n",
      "_________________________________________________________________\n",
      "batch_normalization (BatchNo (None, 256, 64, 32)       128       \n",
      "_________________________________________________________________\n",
      "activation (Activation)      (None, 256, 64, 32)       0         \n",
      "_________________________________________________________________\n",
      "max1 (MaxPooling2D)          (None, 128, 32, 32)       0         \n",
      "_________________________________________________________________\n",
      "conv2 (Conv2D)               (None, 128, 32, 64)       18496     \n",
      "_________________________________________________________________\n",
      "batch_normalization_1 (Batch (None, 128, 32, 64)       256       \n",
      "_________________________________________________________________\n",
      "activation_1 (Activation)    (None, 128, 32, 64)       0         \n",
      "_________________________________________________________________\n",
      "max2 (MaxPooling2D)          (None, 64, 16, 64)        0         \n",
      "_________________________________________________________________\n",
      "conv3 (Conv2D)               (None, 64, 16, 128)       73856     \n",
      "_________________________________________________________________\n",
      "batch_normalization_2 (Batch (None, 64, 16, 128)       512       \n",
      "_________________________________________________________________\n",
      "activation_2 (Activation)    (None, 64, 16, 128)       0         \n",
      "_________________________________________________________________\n",
      "max3 (MaxPooling2D)          (None, 32, 16, 128)       0         \n",
      "_________________________________________________________________\n",
      "dropout (Dropout)            (None, 32, 16, 128)       0         \n",
      "_________________________________________________________________\n",
      "conv4 (Conv2D)               (None, 32, 16, 256)       295168    \n",
      "_________________________________________________________________\n",
      "batch_normalization_3 (Batch (None, 32, 16, 256)       1024      \n",
      "_________________________________________________________________\n",
      "activation_3 (Activation)    (None, 32, 16, 256)       0         \n",
      "_________________________________________________________________\n",
      "max4 (MaxPooling2D)          (None, 16, 16, 256)       0         \n",
      "_________________________________________________________________\n",
      "reshape (Reshape)            (None, 64, 1024)          0         \n",
      "_________________________________________________________________\n",
      "dense1 (Dense)               (None, 64, 64)            65600     \n",
      "_________________________________________________________________\n",
      "lstm1 (Bidirectional)        (None, 64, 512)           657408    \n",
      "_________________________________________________________________\n",
      "lstm2 (Bidirectional)        (None, 64, 512)           1574912   \n",
      "_________________________________________________________________\n",
      "dense2 (Dense)               (None, 64, 30)            15390     \n",
      "_________________________________________________________________\n",
      "softmax (Activation)         (None, 64, 30)            0         \n",
      "=================================================================\n",
      "Total params: 2,703,070\n",
      "Trainable params: 2,702,110\n",
      "Non-trainable params: 960\n",
      "_________________________________________________________________\n"
     ]
    },
    {
     "data": {
      "text/plain": [
       "24"
      ]
     },
     "execution_count": 5,
     "metadata": {},
     "output_type": "execute_result"
    }
   ],
   "source": [
    "input_data = Input(shape=(256,64, 1), name='input')\n",
    "\n",
    "inner = Conv2D(32, (3, 3), padding='same', name='conv1', kernel_initializer='he_normal')(input_data)  \n",
    "inner = BatchNormalization()(inner)\n",
    "inner = Activation('relu')(inner)\n",
    "inner = MaxPooling2D(pool_size=(2, 2), name='max1')(inner)\n",
    "\n",
    "inner = Conv2D(64, (3, 3), padding='same', name='conv2', kernel_initializer='he_normal')(inner)\n",
    "inner = BatchNormalization()(inner)\n",
    "inner = Activation('relu')(inner)\n",
    "inner = MaxPooling2D(pool_size=(2, 2), name='max2')(inner)\n",
    "#inner = Dropout(0.3)(inner)\n",
    "\n",
    "inner = Conv2D(128, (3, 3), padding='same', name='conv3', kernel_initializer='he_normal')(inner)\n",
    "inner = BatchNormalization()(inner)\n",
    "inner = Activation('relu')(inner)\n",
    "inner = MaxPooling2D(pool_size=(2, 1), name='max3')(inner)\n",
    "inner = Dropout(0.3)(inner)\n",
    "\n",
    "inner = Conv2D(256, (3, 3), padding='same', name='conv4', kernel_initializer='he_normal')(inner)\n",
    "inner = BatchNormalization()(inner)\n",
    "inner = Activation('relu')(inner)\n",
    "inner = MaxPooling2D(pool_size=(2,1), name='max4')(inner)\n",
    "#inner = Dropout(0.3)(inner)\n",
    "\n",
    "\n",
    "# CNN to RNN\n",
    "inner = Reshape(target_shape=((64, 1024)), name='reshape')(inner)\n",
    "inner = Dense(64, activation='relu', kernel_initializer='he_normal', name='dense1')(inner)\n",
    "\n",
    "## RNN\n",
    "inner = Bidirectional(LSTM(256, return_sequences=True), name = 'lstm1')(inner)\n",
    "inner = Bidirectional(LSTM(256, return_sequences=True), name = 'lstm2')(inner)\n",
    "inner = Dense(num_of_characters, kernel_initializer='he_normal',name='dense2')(inner)\n",
    "y_pred = Activation('softmax', name='softmax')(inner)\n",
    "\n",
    "model = Model(inputs=input_data, outputs=y_pred)\n",
    "model.summary()\n",
    "len(model.layers)"
   ]
  },
  {
   "cell_type": "code",
   "execution_count": null,
   "id": "378e9eb3",
   "metadata": {
    "papermill": {
     "duration": 0.019365,
     "end_time": "2022-07-03T02:27:16.086518",
     "exception": false,
     "start_time": "2022-07-03T02:27:16.067153",
     "status": "completed"
    },
    "tags": []
   },
   "outputs": [],
   "source": []
  },
  {
   "cell_type": "code",
   "execution_count": 6,
   "id": "7b3447d1",
   "metadata": {
    "execution": {
     "iopub.execute_input": "2022-07-03T02:27:16.131321Z",
     "iopub.status.busy": "2022-07-03T02:27:16.129784Z",
     "iopub.status.idle": "2022-07-03T02:27:16.131968Z",
     "shell.execute_reply": "2022-07-03T02:27:16.132416Z"
    },
    "papermill": {
     "duration": 0.026031,
     "end_time": "2022-07-03T02:27:16.132541",
     "exception": false,
     "start_time": "2022-07-03T02:27:16.106510",
     "status": "completed"
    },
    "tags": []
   },
   "outputs": [],
   "source": [
    "# the ctc loss function\n",
    "def ctc_lambda_func(args):\n",
    "    y_pred, labels, input_length, label_length = args\n",
    "    # the 2 is critical here since the first couple outputs of the RNN\n",
    "    # tend to be garbage\n",
    "    y_pred = y_pred[:, 2:, :]\n",
    "    return K.ctc_batch_cost(labels, y_pred, input_length, label_length)"
   ]
  },
  {
   "cell_type": "code",
   "execution_count": 7,
   "id": "2abfe771",
   "metadata": {
    "execution": {
     "iopub.execute_input": "2022-07-03T02:27:16.183396Z",
     "iopub.status.busy": "2022-07-03T02:27:16.182605Z",
     "iopub.status.idle": "2022-07-03T02:27:16.269682Z",
     "shell.execute_reply": "2022-07-03T02:27:16.269209Z"
    },
    "papermill": {
     "duration": 0.115314,
     "end_time": "2022-07-03T02:27:16.269802",
     "exception": false,
     "start_time": "2022-07-03T02:27:16.154488",
     "status": "completed"
    },
    "tags": []
   },
   "outputs": [],
   "source": [
    "labels = Input(name='gtruth_labels', shape=[max_str_len], dtype='float32')\n",
    "input_length = Input(name='input_length', shape=[1], dtype='int64')\n",
    "label_length = Input(name='label_length', shape=[1], dtype='int64')\n",
    "\n",
    "ctc_loss = Lambda(ctc_lambda_func, output_shape=(1,), name='ctc')([y_pred, labels, input_length, label_length])\n",
    "model_final = Model(inputs=[input_data, labels, input_length, label_length], outputs=ctc_loss)"
   ]
  },
  {
   "cell_type": "markdown",
   "id": "624db15f",
   "metadata": {
    "papermill": {
     "duration": 0.01964,
     "end_time": "2022-07-03T02:27:16.309083",
     "exception": false,
     "start_time": "2022-07-03T02:27:16.289443",
     "status": "completed"
    },
    "tags": []
   },
   "source": [
    "# fitting model"
   ]
  },
  {
   "cell_type": "code",
   "execution_count": 8,
   "id": "3dc026e5",
   "metadata": {
    "execution": {
     "iopub.execute_input": "2022-07-03T02:27:16.362122Z",
     "iopub.status.busy": "2022-07-03T02:27:16.361143Z",
     "iopub.status.idle": "2022-07-03T02:49:45.892975Z",
     "shell.execute_reply": "2022-07-03T02:49:45.892492Z"
    },
    "papermill": {
     "duration": 1349.56406,
     "end_time": "2022-07-03T02:49:45.893112",
     "exception": false,
     "start_time": "2022-07-03T02:27:16.329052",
     "status": "completed"
    },
    "tags": []
   },
   "outputs": [
    {
     "name": "stderr",
     "output_type": "stream",
     "text": [
      "/opt/conda/lib/python3.7/site-packages/keras/optimizer_v2/optimizer_v2.py:356: UserWarning: The `lr` argument is deprecated, use `learning_rate` instead.\n",
      "  \"The `lr` argument is deprecated, use `learning_rate` instead.\")\n"
     ]
    },
    {
     "name": "stdout",
     "output_type": "stream",
     "text": [
      "iter : 0\n"
     ]
    },
    {
     "name": "stderr",
     "output_type": "stream",
     "text": [
      "2022-07-03 02:28:03.345241: I tensorflow/compiler/mlir/mlir_graph_optimization_pass.cc:185] None of the MLIR Optimization Passes are enabled (registered 2)\n"
     ]
    },
    {
     "name": "stdout",
     "output_type": "stream",
     "text": [
      "Epoch 1/10\n"
     ]
    },
    {
     "name": "stderr",
     "output_type": "stream",
     "text": [
      "2022-07-03 02:28:09.003233: I tensorflow/stream_executor/cuda/cuda_dnn.cc:369] Loaded cuDNN version 8005\n"
     ]
    },
    {
     "name": "stdout",
     "output_type": "stream",
     "text": [
      "423/423 [==============================] - 30s 42ms/step - loss: 17.1851\n",
      "Epoch 2/10\n",
      "423/423 [==============================] - 18s 43ms/step - loss: 14.5950\n",
      "Epoch 3/10\n",
      "423/423 [==============================] - 18s 42ms/step - loss: 13.9795\n",
      "Epoch 4/10\n",
      "423/423 [==============================] - 18s 42ms/step - loss: 13.5457\n",
      "Epoch 5/10\n",
      "423/423 [==============================] - 18s 42ms/step - loss: 13.1463\n",
      "Epoch 6/10\n",
      "423/423 [==============================] - 18s 42ms/step - loss: 12.7998\n",
      "Epoch 7/10\n",
      "423/423 [==============================] - 18s 42ms/step - loss: 12.4843\n",
      "Epoch 8/10\n",
      "423/423 [==============================] - 18s 43ms/step - loss: 12.1870\n",
      "Epoch 9/10\n",
      "423/423 [==============================] - 18s 42ms/step - loss: 11.9065\n",
      "Epoch 10/10\n",
      "423/423 [==============================] - 18s 42ms/step - loss: 11.6537\n",
      "Epoch 1/10\n",
      "428/428 [==============================] - 19s 43ms/step - loss: 11.6709\n",
      "Epoch 2/10\n",
      "428/428 [==============================] - 18s 42ms/step - loss: 11.2846\n",
      "Epoch 3/10\n",
      "428/428 [==============================] - 18s 42ms/step - loss: 10.9697\n",
      "Epoch 4/10\n",
      "428/428 [==============================] - 19s 44ms/step - loss: 10.7293\n",
      "Epoch 5/10\n",
      "428/428 [==============================] - 18s 41ms/step - loss: 10.4969\n",
      "Epoch 6/10\n",
      "428/428 [==============================] - 19s 43ms/step - loss: 10.2219\n",
      "Epoch 7/10\n",
      "428/428 [==============================] - 18s 42ms/step - loss: 10.0001\n",
      "Epoch 8/10\n",
      "428/428 [==============================] - 19s 43ms/step - loss: 9.8047\n",
      "Epoch 9/10\n",
      "428/428 [==============================] - 19s 44ms/step - loss: 9.5499\n",
      "Epoch 10/10\n",
      "428/428 [==============================] - 18s 43ms/step - loss: 9.3076\n",
      "Epoch 1/10\n",
      "422/422 [==============================] - 18s 44ms/step - loss: 10.4860\n",
      "Epoch 2/10\n",
      "422/422 [==============================] - 18s 43ms/step - loss: 9.9385\n",
      "Epoch 3/10\n",
      "422/422 [==============================] - 18s 43ms/step - loss: 9.5940\n",
      "Epoch 4/10\n",
      "422/422 [==============================] - 19s 44ms/step - loss: 9.2461\n",
      "Epoch 5/10\n",
      "422/422 [==============================] - 18s 42ms/step - loss: 8.9646\n",
      "Epoch 6/10\n",
      "422/422 [==============================] - 19s 44ms/step - loss: 8.6888\n",
      "Epoch 7/10\n",
      "422/422 [==============================] - 18s 42ms/step - loss: 8.4469\n",
      "Epoch 8/10\n",
      "422/422 [==============================] - 19s 44ms/step - loss: 8.1719\n",
      "Epoch 9/10\n",
      "422/422 [==============================] - 17s 41ms/step - loss: 7.9888\n",
      "Epoch 10/10\n",
      "422/422 [==============================] - 19s 44ms/step - loss: 7.6702\n",
      "iter : 1\n",
      "Epoch 1/10\n",
      "423/423 [==============================] - 19s 45ms/step - loss: 10.4532\n",
      "Epoch 2/10\n",
      "423/423 [==============================] - 18s 42ms/step - loss: 9.6875\n",
      "Epoch 3/10\n",
      "423/423 [==============================] - 19s 44ms/step - loss: 9.2310\n",
      "Epoch 4/10\n",
      "423/423 [==============================] - 18s 42ms/step - loss: 8.8851\n",
      "Epoch 5/10\n",
      "423/423 [==============================] - 19s 45ms/step - loss: 8.6039\n",
      "Epoch 6/10\n",
      "423/423 [==============================] - 18s 43ms/step - loss: 8.2923\n",
      "Epoch 7/10\n",
      "423/423 [==============================] - 19s 45ms/step - loss: 7.9756\n",
      "Epoch 8/10\n",
      "423/423 [==============================] - 18s 43ms/step - loss: 7.7004\n",
      "Epoch 9/10\n",
      "423/423 [==============================] - 18s 43ms/step - loss: 7.4155\n",
      "Epoch 10/10\n",
      "423/423 [==============================] - 19s 44ms/step - loss: 7.1679\n",
      "Epoch 1/10\n",
      "428/428 [==============================] - 18s 42ms/step - loss: 9.0667\n",
      "Epoch 2/10\n",
      "428/428 [==============================] - 19s 45ms/step - loss: 8.3261\n",
      "Epoch 3/10\n",
      "428/428 [==============================] - 18s 43ms/step - loss: 7.9227\n",
      "Epoch 4/10\n",
      "428/428 [==============================] - 19s 45ms/step - loss: 7.5933\n",
      "Epoch 5/10\n",
      "428/428 [==============================] - 18s 43ms/step - loss: 7.3058\n",
      "Epoch 6/10\n",
      "428/428 [==============================] - 19s 45ms/step - loss: 7.0085\n",
      "Epoch 7/10\n",
      "428/428 [==============================] - 19s 44ms/step - loss: 6.7269\n",
      "Epoch 8/10\n",
      "428/428 [==============================] - 19s 44ms/step - loss: 6.4740\n",
      "Epoch 9/10\n",
      "428/428 [==============================] - 19s 44ms/step - loss: 6.1814\n",
      "Epoch 10/10\n",
      "428/428 [==============================] - 19s 43ms/step - loss: 5.9199\n",
      "Epoch 1/10\n",
      "422/422 [==============================] - 19s 45ms/step - loss: 8.3630\n",
      "Epoch 2/10\n",
      "422/422 [==============================] - 18s 43ms/step - loss: 7.4357\n",
      "Epoch 3/10\n",
      "422/422 [==============================] - 19s 45ms/step - loss: 6.9515\n",
      "Epoch 4/10\n",
      "422/422 [==============================] - 18s 42ms/step - loss: 6.5832\n",
      "Epoch 5/10\n",
      "422/422 [==============================] - 19s 46ms/step - loss: 6.2337\n",
      "Epoch 6/10\n",
      "422/422 [==============================] - 18s 43ms/step - loss: 5.9434\n",
      "Epoch 7/10\n",
      "422/422 [==============================] - 18s 42ms/step - loss: 5.6284\n",
      "Epoch 8/10\n",
      "422/422 [==============================] - 19s 45ms/step - loss: 5.3717\n",
      "Epoch 9/10\n",
      "422/422 [==============================] - 18s 44ms/step - loss: 5.1548\n",
      "Epoch 10/10\n",
      "422/422 [==============================] - 17s 41ms/step - loss: 4.8825\n"
     ]
    }
   ],
   "source": [
    "# the loss calculation occurs elsewhere, so we use a dummy lambda function for the loss\n",
    "model_final.compile(loss={'ctc': lambda y_true, y_pred: y_pred}, optimizer=Adam(lr = 0.0001))\n",
    "\n",
    "\n",
    "for j in range(2):\n",
    "    train_size=10000\n",
    "    print('iter :',j)\n",
    "    for k in range(3) :\n",
    "        \n",
    "        import re\n",
    "        train_x = []\n",
    "        train_y=[]\n",
    "        train=[]\n",
    "        for i in range(10000):\n",
    "            xx=samples[i+k*10000].gtText;\n",
    "            if (bool(re.match('^[a-zA-Z0-9]*$',xx))==True) and containsNumber(xx)==False :\n",
    "                train.append(xx.upper())\n",
    "                img_dir = samples[i+k*10000].filePath\n",
    "                image = cv2.imread(img_dir,cv2.IMREAD_GRAYSCALE)\n",
    "                \n",
    "                bw= cv2.adaptiveThreshold(image, 255, cv2.ADAPTIVE_THRESH_MEAN_C, cv2.THRESH_BINARY,11, 10)\n",
    "                bw=cv2.resize(bw,(256,64))\n",
    "                \n",
    "                #end of local thresholding\n",
    "                kernal = np.ones((2,1), 'uint8')\n",
    "                bw = cv2.morphologyEx(bw, cv2.MORPH_DILATE, kernal,iterations=1)#MORPH_DILATE\n",
    "                \n",
    "                #image=image/255.0\n",
    "                train_x.append(bw)\n",
    "            else :\n",
    "                train_size=train_size-1\n",
    "\n",
    "        #print(train)\n",
    "        train_x = np.array(train_x).reshape(-1,256,64, 1)\n",
    "        train_size=len(train_x)\n",
    "        \n",
    "        ########### train\n",
    "        train_y = np.ones([train_size, max_str_len]) * -1\n",
    "        train_label_len = np.zeros([train_size, 1])\n",
    "        train_input_len = np.ones([train_size, 1]) * (num_of_timestamps-2)\n",
    "        train_output = np.zeros([train_size])\n",
    "\n",
    "        for i in range(train_size):\n",
    "            train_label_len[i] = len(train[i])\n",
    "            train_y[i, 0:len(train[i])]= label_to_num(train[i])  \n",
    "\n",
    "        train_y = np.array(train_y)\n",
    "\n",
    "        \n",
    "        with tf.device('/device:GPU:0'):\n",
    "            history=model_final.fit(x=[train_x,train_y,train_input_len,train_label_len], y=train_output,\n",
    "                                    epochs=10, batch_size=20)\n"
   ]
  },
  {
   "cell_type": "code",
   "execution_count": 9,
   "id": "bfbc57e6",
   "metadata": {
    "execution": {
     "iopub.execute_input": "2022-07-03T02:49:55.003077Z",
     "iopub.status.busy": "2022-07-03T02:49:55.002197Z",
     "iopub.status.idle": "2022-07-03T02:50:18.469934Z",
     "shell.execute_reply": "2022-07-03T02:50:18.468721Z"
    },
    "papermill": {
     "duration": 28.190477,
     "end_time": "2022-07-03T02:50:18.470077",
     "exception": false,
     "start_time": "2022-07-03T02:49:50.279600",
     "status": "completed"
    },
    "tags": []
   },
   "outputs": [
    {
     "name": "stderr",
     "output_type": "stream",
     "text": [
      "2022-07-03 02:50:04.075300: W tensorflow/python/util/util.cc:348] Sets are not currently considered sequences, but this may change in the future, so consider avoiding using them.\n"
     ]
    }
   ],
   "source": [
    "model_final.save('/kaggle/working/models/model3')"
   ]
  },
  {
   "cell_type": "code",
   "execution_count": 10,
   "id": "a96b1971",
   "metadata": {
    "execution": {
     "iopub.execute_input": "2022-07-03T02:50:27.654146Z",
     "iopub.status.busy": "2022-07-03T02:50:27.653506Z",
     "iopub.status.idle": "2022-07-03T02:51:26.944307Z",
     "shell.execute_reply": "2022-07-03T02:51:26.944879Z"
    },
    "papermill": {
     "duration": 63.97804,
     "end_time": "2022-07-03T02:51:26.945093",
     "exception": false,
     "start_time": "2022-07-03T02:50:22.967053",
     "status": "completed"
    },
    "tags": []
   },
   "outputs": [
    {
     "name": "stdout",
     "output_type": "stream",
     "text": [
      "844/844 [==============================] - 14s 15ms/step - loss: 9.2390\n",
      "test loss, test acc: 9.238983154296875\n"
     ]
    }
   ],
   "source": [
    "train_x = []\n",
    "valid_size= 10000\n",
    "valid_x = []\n",
    "train_valid_y=[]\n",
    "for i in range(10000):\n",
    "    xx=samples[i+30000].gtText;\n",
    "    \n",
    "    if (bool(re.match('^[a-zA-Z0-9]*$',xx))==True) and containsNumber(xx)==False :\n",
    "        train_valid_y.append(xx.upper())\n",
    "        img_dir = samples[i+30000].filePath\n",
    "        image = cv2.imread(img_dir,cv2.IMREAD_GRAYSCALE)#, cv2.IMREAD_GRAYSCALE\n",
    "        #image = preprocess(image)\n",
    "        \n",
    "        \n",
    "        bw= cv2.adaptiveThreshold(image, 255, cv2.ADAPTIVE_THRESH_MEAN_C, cv2.THRESH_BINARY,11, 10)\n",
    "        bw=cv2.resize(bw,(256,64))\n",
    "        kernal = np.ones((2,1), 'uint8')\n",
    "        bw = cv2.morphologyEx(bw, cv2.MORPH_DILATE, kernal,iterations=1)#MORPH_DILATE\n",
    "        \n",
    "        #image=image/255.0\n",
    "        valid_x.append(bw)\n",
    "    else :\n",
    "        valid_size=valid_size-1\n",
    "\n",
    "#print(train_valid_y)\n",
    "valid_x = np.array(valid_x).reshape(-1, 256,64, 1)\n",
    "valid_size=len(valid_x)\n",
    "\n",
    "\n",
    "######## valid\n",
    "valid_y = np.ones([valid_size, max_str_len]) * -1\n",
    "valid_label_len = np.zeros([valid_size, 1])\n",
    "valid_input_len = np.ones([valid_size, 1]) * (num_of_timestamps-2)\n",
    "valid_output = np.zeros([valid_size])\n",
    "\n",
    "for i in range(valid_size):\n",
    "    valid_label_len[i] = len(train_valid_y[i])\n",
    "    valid_y[i, 0:len(train_valid_y[i])]= label_to_num(train_valid_y[i])  \n",
    "valid_y = np.array(valid_y)\n",
    "\n",
    "results = model_final.evaluate([valid_x, valid_y, valid_input_len, valid_label_len], valid_output, batch_size=10)\n",
    "print(\"test loss, test acc:\", results)"
   ]
  },
  {
   "cell_type": "code",
   "execution_count": 11,
   "id": "a4b627eb",
   "metadata": {
    "execution": {
     "iopub.execute_input": "2022-07-03T02:51:36.352879Z",
     "iopub.status.busy": "2022-07-03T02:51:36.352274Z",
     "iopub.status.idle": "2022-07-03T02:51:36.576925Z",
     "shell.execute_reply": "2022-07-03T02:51:36.576457Z"
    },
    "papermill": {
     "duration": 4.817117,
     "end_time": "2022-07-03T02:51:36.577118",
     "exception": false,
     "start_time": "2022-07-03T02:51:31.760001",
     "status": "completed"
    },
    "tags": []
   },
   "outputs": [
    {
     "data": {
      "text/plain": [
       "<AxesSubplot:>"
      ]
     },
     "execution_count": 11,
     "metadata": {},
     "output_type": "execute_result"
    },
    {
     "data": {
      "image/png": "[encoded data removed]",
      "text/plain": [
       "<Figure size 432x288 with 1 Axes>"
      ]
     },
     "metadata": {
      "needs_background": "light"
     },
     "output_type": "display_data"
    }
   ],
   "source": [
    "train_x=[]\n",
    "train_y=[]\n",
    "# convert the training history to a dataframe\n",
    "history_df = pd.DataFrame(history.history)\n",
    "# use Pandas native plot method\n",
    "history_df['loss'].plot()"
   ]
  },
  {
   "cell_type": "code",
   "execution_count": 12,
   "id": "8eee08b7",
   "metadata": {
    "execution": {
     "iopub.execute_input": "2022-07-03T02:51:46.523975Z",
     "iopub.status.busy": "2022-07-03T02:51:46.523126Z",
     "iopub.status.idle": "2022-07-03T02:51:54.213046Z",
     "shell.execute_reply": "2022-07-03T02:51:54.213659Z"
    },
    "papermill": {
     "duration": 13.094161,
     "end_time": "2022-07-03T02:51:54.213858",
     "exception": false,
     "start_time": "2022-07-03T02:51:41.119697",
     "status": "completed"
    },
    "tags": []
   },
   "outputs": [
    {
     "name": "stdout",
     "output_type": "stream",
     "text": [
      "['TRES', 'IS', 'SNIING', 'TO', 'GO', 'INTO', 'IN', 'FILM', 'AND', 'SONGS', 'PROECTON', 'NOOT', 'I', 'FAL', 'I', 'SCOME', 'OL', 'A', 'SEEW', 'AT', 'THE', 'BL', 'BHE', 'BALD', 'NOE', 'WE', 'SMALLY', 'SEGEND', 'TO', 'PART', 'GSGRUGT', 'SIS', 'GA', 'GEENT', 'IN', 'SOS', 'STHOUGOHT', 'SBPNNG', 'FRM', 'CSCEN', 'SO', 'ON', 'CENTRET', 'BETOON', 'SOONS', 'SFLT', 'SWND', 'HOY', 'SCONRL', 'FRM', 'SBEITOR', 'BEE', 'IT', 'RALNY', 'IS', 'SANG', 'BY', 'BRIATEL', 'MTHRGORS', 'IN', 'HIS', 'WNAT', 'OIER', 'SAN', 'BT', 'THIE', 'QPOUTEORS', 'SHUBET', 'SBONT', 'THE', 'BEM', 'MNAR', 'IF', 'MHANED', 'STPT', 'STERED', 'CNT', 'BLHT', 'BAVE', 'BY', 'SERGR', 'TOS', 'IS', 'IS', 'BHLNY', 'SOLE', 'GN', 'SIE', 'PLAS', 'TE', 'GEITNS', 'MTOR', 'AT', 'IA', 'SWANG', 'WHIOT', 'BONLY', 'MOERS', 'SUND', 'IA']\n",
      "['TURNER', 'IS', 'AIMING', 'TO', 'GO', 'INTO', 'T', 'FILM', 'AND', 'STAGE', 'PRODUCTION', 'WORK', 'I', 'FEEL', 'I', 'DONE', 'ALL', 'I', 'CAN', 'AT', 'THE', 'B', 'HE', 'TOLD', 'ME', 'WE', 'MUTUALLY', 'AGREED', 'TO', 'PART', 'ESCAPOLOGIST', 'IS', 'A', 'GUEST', 'IN', 'SHOW', 'TONIGHT', 'BOXING', 'FANS', 'CAN', 'SEE', 'AN', 'CONTEST', 'BETWEEN', 'CHRIS', 'ELLIOT', 'AND', 'HARRY', 'CARROLL', 'FROM', 'LEICESTER', 'B', 'A', 'MEDLEY', 'IS', 'SUNG', 'BY', 'DAVID', 'HUGHES', 'IN', 'HIS', 'MAKE', 'MINE', 'MUSIC', 'B', 'THE', 'NUMBERS', 'INCLUDE', 'SCOTLAND', 'THE', 'BRAVE', 'MEN', 'OF', 'HARLECH', 'BAND', 'GREENSLEEVES', 'AND', 'ENGLISH', 'ROSE', 'FAY', 'COMPTON', 'STARS', 'IN', 'NO', 'HIDING', 'PLACE', 'I', 'SHE', 'PLAYS', 'THE', 'POSSESSIVE', 'MOTHER', 'OF', 'A', 'MAN', 'WHOSE', 'HOBBY', 'REVOLVES', 'ROUND', 'A']\n"
     ]
    }
   ],
   "source": [
    "preds = model.predict(valid_x)\n",
    "decoded = K.get_value(K.ctc_decode(preds, input_length=np.ones(preds.shape[0])*preds.shape[1], \n",
    "                                   greedy=True)[0][0])\n",
    "\n",
    "prediction = []\n",
    "for i in range(valid_size):\n",
    "    prediction.append(num_to_label(decoded[i]))\n",
    "    \n",
    "print(prediction[0:100])\n",
    "print(train_valid_y[0:100])"
   ]
  },
  {
   "cell_type": "code",
   "execution_count": 13,
   "id": "0d129fe1",
   "metadata": {
    "execution": {
     "iopub.execute_input": "2022-07-03T02:52:03.367022Z",
     "iopub.status.busy": "2022-07-03T02:52:03.366236Z",
     "iopub.status.idle": "2022-07-03T02:52:03.369431Z",
     "shell.execute_reply": "2022-07-03T02:52:03.369843Z"
    },
    "papermill": {
     "duration": 4.624156,
     "end_time": "2022-07-03T02:52:03.369975",
     "exception": false,
     "start_time": "2022-07-03T02:51:58.745819",
     "status": "completed"
    },
    "tags": []
   },
   "outputs": [
    {
     "name": "stdout",
     "output_type": "stream",
     "text": [
      "Correct characters predicted : 29.99%\n",
      "Correct words predicted      : 25.40%\n"
     ]
    }
   ],
   "source": [
    "#y_true = valid.loc[0:valid_size, 'IDENTITY']\n",
    "y_true=valid_y\n",
    "correct_char = 0\n",
    "total_char = 0\n",
    "correct = 0\n",
    "\n",
    "for i in range(valid_size):\n",
    "    pr = prediction[i]\n",
    "    tr = train_valid_y[i]\n",
    "    total_char += len(tr)\n",
    "    \n",
    "    for j in range(min(len(tr), len(pr))):\n",
    "        if tr[j] == pr[j]:\n",
    "            correct_char += 1\n",
    "            \n",
    "    if pr == tr :\n",
    "        correct += 1 \n",
    "    \n",
    "print('Correct characters predicted : %.2f%%' %(correct_char*100/total_char))\n",
    "print('Correct words predicted      : %.2f%%' %(correct*100/valid_size))"
   ]
  },
  {
   "cell_type": "code",
   "execution_count": 14,
   "id": "c122718f",
   "metadata": {
    "execution": {
     "iopub.execute_input": "2022-07-03T02:52:12.714535Z",
     "iopub.status.busy": "2022-07-03T02:52:12.712684Z",
     "iopub.status.idle": "2022-07-03T02:52:13.349818Z",
     "shell.execute_reply": "2022-07-03T02:52:13.350256Z"
    },
    "papermill": {
     "duration": 5.179053,
     "end_time": "2022-07-03T02:52:13.350432",
     "exception": false,
     "start_time": "2022-07-03T02:52:08.171379",
     "status": "completed"
    },
    "tags": []
   },
   "outputs": [
    {
     "data": {
      "image/png": "[encoded data removed]",
      "text/plain": [
       "<Figure size 1080x720 with 6 Axes>"
      ]
     },
     "metadata": {
      "needs_background": "light"
     },
     "output_type": "display_data"
    }
   ],
   "source": [
    "test = pd.read_csv('/kaggle/input/handwriting-recognition/written_name_test_v2.csv')\n",
    "#test = pd.read_csv('/kaggle/input/rochattaname/names.csv')\n",
    "\n",
    "plt.figure(figsize=(15, 10))\n",
    "for i in range(6):\n",
    "    ax = plt.subplot(2, 3, i+1)\n",
    "    #img_dir = '/kaggle/input/handwriting-recognition/test_v2/test/'+test.loc[i, 'FILENAME']\n",
    "    #img_dir = '/kaggle/input/train-data/images/'+test.loc[i, 'ID']\n",
    "    img_dir = samples[i].filePath\n",
    "    \n",
    "    image = cv2.imread(img_dir, cv2.IMREAD_GRAYSCALE)\n",
    "    bw= cv2.adaptiveThreshold(image, 255, cv2.ADAPTIVE_THRESH_MEAN_C, cv2.THRESH_BINARY,11, 10)\n",
    "    bw=cv2.resize(bw,(256,64))\n",
    "    kernal = np.ones((2,1), 'uint8')\n",
    "    bw = cv2.morphologyEx(bw, cv2.MORPH_DILATE, kernal,iterations=1)#MORPH_DILATE\n",
    "    plt.imshow(bw, cmap='gray')\n",
    "    \n",
    "    #image = image/255.\n",
    "    pred = model.predict(bw.reshape(-1, 256,64, 1))\n",
    "    decoded = K.get_value(K.ctc_decode(pred, input_length=np.ones(pred.shape[0])*pred.shape[1], \n",
    "                                       greedy=True)[0][0])\n",
    "    plt.title(num_to_label(decoded[0]), fontsize=12)\n",
    "    plt.axis('off')\n",
    "    \n",
    "plt.subplots_adjust(wspace=0.8, hspace=-1.3)"
   ]
  },
  {
   "cell_type": "code",
   "execution_count": 15,
   "id": "0e33fca1",
   "metadata": {
    "execution": {
     "iopub.execute_input": "2022-07-03T02:52:23.174967Z",
     "iopub.status.busy": "2022-07-03T02:52:23.174420Z",
     "iopub.status.idle": "2022-07-03T02:52:23.834718Z",
     "shell.execute_reply": "2022-07-03T02:52:23.835185Z"
    },
    "papermill": {
     "duration": 5.207781,
     "end_time": "2022-07-03T02:52:23.835438",
     "exception": false,
     "start_time": "2022-07-03T02:52:18.627657",
     "status": "completed"
    },
    "tags": []
   },
   "outputs": [
    {
     "data": {
      "image/png": "[encoded data removed]",
      "text/plain": [
       "<Figure size 1080x720 with 6 Axes>"
      ]
     },
     "metadata": {
      "needs_background": "light"
     },
     "output_type": "display_data"
    }
   ],
   "source": [
    "valid_x=[]\n",
    "test = pd.read_csv('/kaggle/input/traindata/try.csv')\n",
    "\n",
    "plt.figure(figsize=(15, 10))\n",
    "for i in range(6):\n",
    "    ax = plt.subplot(2, 3, i+1)\n",
    "    img_dir = '/kaggle/input/train-data/images/'+str(i+1)+'.jpg'\n",
    "    #img_dir = '/kaggle/input/train-data/images/1.jpg'\n",
    "    image = cv2.imread(img_dir, cv2.IMREAD_GRAYSCALE)\n",
    "    bw= cv2.adaptiveThreshold(image, 255, cv2.ADAPTIVE_THRESH_MEAN_C, cv2.THRESH_BINARY,11, 10)\n",
    "    bw=cv2.resize(bw,(256,64))\n",
    "    kernal = np.ones((2,1), 'uint8')\n",
    "    bw = cv2.morphologyEx(bw, cv2.MORPH_DILATE, kernal,iterations=1)#MORPH_DILATE\n",
    "    \n",
    "    plt.imshow(bw, cmap='gray')\n",
    "    \n",
    "    #image = image/255.\n",
    "    pred = model.predict(bw.reshape(1,256,64, 1))\n",
    "    decoded = K.get_value(K.ctc_decode(pred, input_length=np.ones(pred.shape[0])*pred.shape[1], \n",
    "                                       greedy=True)[0][0])\n",
    "    plt.title(num_to_label(decoded[0]), fontsize=12)\n",
    "    plt.axis('off')\n",
    "    \n",
    "plt.subplots_adjust(wspace=0.2, hspace=0.2)\n"
   ]
  },
  {
   "cell_type": "code",
   "execution_count": 16,
   "id": "c5572b84",
   "metadata": {
    "execution": {
     "iopub.execute_input": "2022-07-03T02:52:33.265096Z",
     "iopub.status.busy": "2022-07-03T02:52:33.264555Z",
     "iopub.status.idle": "2022-07-03T02:52:46.057871Z",
     "shell.execute_reply": "2022-07-03T02:52:46.057356Z"
    },
    "papermill": {
     "duration": 17.279057,
     "end_time": "2022-07-03T02:52:46.057994",
     "exception": false,
     "start_time": "2022-07-03T02:52:28.778937",
     "status": "completed"
    },
    "tags": []
   },
   "outputs": [
    {
     "name": "stdout",
     "output_type": "stream",
     "text": [
      "Epoch 1/6\n",
      "49/49 [==============================] - 3s 20ms/step - loss: 30.0402\n",
      "Epoch 2/6\n",
      "49/49 [==============================] - 1s 16ms/step - loss: 24.3457\n",
      "Epoch 3/6\n",
      "49/49 [==============================] - 1s 16ms/step - loss: 22.7780\n",
      "Epoch 4/6\n",
      "49/49 [==============================] - 1s 16ms/step - loss: 21.2484\n",
      "Epoch 5/6\n",
      "49/49 [==============================] - 1s 16ms/step - loss: 20.1576\n",
      "Epoch 6/6\n",
      "49/49 [==============================] - 1s 16ms/step - loss: 19.2103\n"
     ]
    }
   ],
   "source": [
    "\n",
    "test_train_size=60\n",
    "test_train_x = []\n",
    "test_train_y=[]\n",
    "test_train=[]\n",
    "\n",
    "test = pd.read_csv('/kaggle/input/traindata/try.csv')\n",
    "\n",
    "li=test['ID']\n",
    "li.to_list()\n",
    "\n",
    "\n",
    "for i in range(test_train_size):\n",
    "    xx=li[i]\n",
    "    if (bool(re.match('^[a-zA-Z0-9]*$',xx))==True) and containsNumber(xx)==False :\n",
    "        test_train.append(xx.upper())\n",
    "        img_dir = '/kaggle/input/train-data/images/'+str(i+1)+'.jpg'\n",
    "        image = cv2.imread(img_dir,cv2.IMREAD_GRAYSCALE)\n",
    "\n",
    "        bw= cv2.adaptiveThreshold(image, 255, cv2.ADAPTIVE_THRESH_MEAN_C, cv2.THRESH_BINARY,11, 10)\n",
    "        bw=cv2.resize(bw,(256,64))\n",
    "\n",
    "        #end of local thresholding\n",
    "        kernal = np.ones((2,1), 'uint8')\n",
    "        bw = cv2.morphologyEx(bw, cv2.MORPH_DILATE, kernal,iterations=1)#MORPH_DILATE\n",
    "\n",
    "        #image=image/255.0\n",
    "        test_train_x.append(bw)\n",
    "    else :\n",
    "        test_train_size=test_train_size-1\n",
    "\n",
    "#print(train)\n",
    "test_train_x = np.array(test_train_x).reshape(-1,256,64, 1)\n",
    "\n",
    "\n",
    "########### train\n",
    "test_train_y = np.ones([test_train_size, max_str_len]) * -1\n",
    "test_train_label_len = np.zeros([test_train_size, 1])\n",
    "test_train_input_len = np.ones([test_train_size, 1]) * (num_of_timestamps-2)\n",
    "test_train_output = np.zeros([test_train_size])\n",
    "\n",
    "for j in range(test_train_size):\n",
    "    test_train_label_len[j] = len(test_train[j])\n",
    "    \n",
    "    test_train_y[j, 0:len(test_train[j])]= label_to_num(test_train[j])  \n",
    "\n",
    "test_train_y = np.array(test_train_y)\n",
    "\n",
    "\n",
    "with tf.device('/device:GPU:0'):\n",
    "    history=model_final.fit(x=[test_train_x,test_train_y,test_train_input_len,test_train_label_len], y=test_train_output,\n",
    "                            epochs=6, batch_size=1)"
   ]
  },
  {
   "cell_type": "code",
   "execution_count": 17,
   "id": "cd09b079",
   "metadata": {
    "execution": {
     "iopub.execute_input": "2022-07-03T02:52:56.067948Z",
     "iopub.status.busy": "2022-07-03T02:52:56.067386Z",
     "iopub.status.idle": "2022-07-03T02:52:58.821278Z",
     "shell.execute_reply": "2022-07-03T02:52:58.822520Z"
    },
    "papermill": {
     "duration": 7.348545,
     "end_time": "2022-07-03T02:52:58.822733",
     "exception": false,
     "start_time": "2022-07-03T02:52:51.474188",
     "status": "completed"
    },
    "tags": []
   },
   "outputs": [
    {
     "name": "stdout",
     "output_type": "stream",
     "text": [
      "['AMAIE', 'MO', '', 'RI', 'A', 'MMRINE', 'MSN', 'MEE', 'AOA', 'MIE', 'AIE', 'INE', 'AE', 'MN', 'ARO', 'A', 'A', 'A', 'A', 'A', 'AOAON', '', '', 'RAN', 'RON', 'RAE', 'RAIE', 'AOAOE', 'AOL', 'OE', '', 'A', 'A', 'A', 'A', 'SIN', 'AE', 'AID', 'AOION', 'AOL', 'OAIE', 'AE', 'RAIE', 'EOAOE', 'AI', 'RI', 'AO', 'AO', 'A', 'AOAON', 'OA', '', 'AI', 'N', 'AN', 'AN', 'AON', 'AON', 'OE', 'OAIN']\n",
      "0                  femaston\n",
      "1                      Gyno\n",
      "2                    Longus\n",
      "3                    Valens\n",
      "4                fosfomycin\n",
      "5               Neurorubine\n",
      "6                     Mesna\n",
      "7                    Keflex\n",
      "8                 Bactroban\n",
      "9                   Maximum\n",
      "10                 Atropine\n",
      "11                 Dicynone\n",
      "12               folic acid\n",
      "13                Tamoxifen\n",
      "14                  Liberex\n",
      "15                   clamid\n",
      "16                    IVF-M\n",
      "17                  Diclair\n",
      "18                    oGyl \n",
      "19                      Tab\n",
      "20                Ibuprofen\n",
      "21                   Suprax\n",
      "22                    zomax\n",
      "23                 Ventolin\n",
      "24                 Atrovent\n",
      "25             Predinsolone\n",
      "26               Omeprazole\n",
      "27                 Vesicare\n",
      "28              Propranolol\n",
      "29                    Vit E\n",
      "30                    Cream\n",
      "31                  Levotab\n",
      "32                  urisept\n",
      "33                 contiflo\n",
      "34                  Tanakan\n",
      "35                  Aspirin\n",
      "36                    Tri B\n",
      "37                   Klacid\n",
      "38               Amydramine\n",
      "39                 Muscadol\n",
      "40            Normal Saline\n",
      "41                  Panadol\n",
      "42                 Rocephin\n",
      "43            Dexamethasone\n",
      "44               Famotidine\n",
      "45                Cetrizine\n",
      "46                 Cyclogyl\n",
      "47                  favimol\n",
      "48           malsol Sachets\n",
      "49        alfacort ointment\n",
      "50            Desloratadine\n",
      "51    lacto bacillus sachet\n",
      "52                 antinal \n",
      "53                Augmentin\n",
      "54                galctogil\n",
      "55             Gyno - hydra\n",
      "56                  symbion\n",
      "57                    cipro\n",
      "58                 solupred\n",
      "59               Mucosolvan\n",
      "Name: ID, dtype: object\n"
     ]
    }
   ],
   "source": [
    "test = pd.read_csv('/kaggle/input/traindata/try.csv')\n",
    "our_data=[]\n",
    "for i in range(60):\n",
    "    img_dir = '/kaggle/input/train-data/images/'+str(i+1)+'.jpg'\n",
    "    #img_dir = '/kaggle/input/train-data/images/1.jpg'\n",
    "    image = cv2.imread(img_dir, cv2.IMREAD_GRAYSCALE)\n",
    "    bw= cv2.adaptiveThreshold(image, 255, cv2.ADAPTIVE_THRESH_MEAN_C, cv2.THRESH_BINARY,11, 10)\n",
    "    bw=cv2.resize(bw,(256,64))\n",
    "    kernal = np.ones((2,1), 'uint8')\n",
    "    bw = cv2.morphologyEx(bw, cv2.MORPH_DILATE, kernal,iterations=1)#MORPH_DILATE\n",
    "    \n",
    "    \n",
    "    #image = image/255.\n",
    "    pred = model.predict(bw.reshape(1, 256,64, 1))\n",
    "    decoded = K.get_value(K.ctc_decode(pred, input_length=np.ones(pred.shape[0])*pred.shape[1], \n",
    "                                       greedy=True)[0][0])\n",
    "    our_data.append(num_to_label(decoded[0]))\n",
    "    \n",
    "print(our_data)\n",
    "li=test['ID']\n",
    "li.to_list()\n",
    "print(li[0:60])"
   ]
  },
  {
   "cell_type": "code",
   "execution_count": 18,
   "id": "df61f50f",
   "metadata": {
    "execution": {
     "iopub.execute_input": "2022-07-03T02:53:08.017722Z",
     "iopub.status.busy": "2022-07-03T02:53:08.017010Z",
     "iopub.status.idle": "2022-07-03T02:53:08.051070Z",
     "shell.execute_reply": "2022-07-03T02:53:08.050617Z"
    },
    "papermill": {
     "duration": 4.602742,
     "end_time": "2022-07-03T02:53:08.051185",
     "exception": false,
     "start_time": "2022-07-03T02:53:03.448443",
     "status": "completed"
    },
    "tags": []
   },
   "outputs": [
    {
     "name": "stdout",
     "output_type": "stream",
     "text": [
      "AMAIE ### FEMASTON\n",
      "MO ### GYNO\n",
      " ### LONGUS\n",
      "RI ### VALENS\n",
      "A ### FOSFOMYCIN\n",
      "MMRINE ### NEURORUBINE\n",
      "MSN ### MESNA\n",
      "MEE ### KEFLEX\n",
      "AOA ### BACTROBAN\n",
      "MIE ### MAXIMUM\n",
      "AIE ### ATROPINE\n",
      "INE ### DICYNONE\n",
      "AE ### FOLIC ACID\n",
      "MN ### TAMOXIFEN\n",
      "ARO ### LIBEREX\n",
      "A ### CLAMID\n",
      "A ### IVF-M\n",
      "A ### DICLAIR\n",
      "A ### OGYL \n",
      "A ### TAB\n",
      "AOAON ### IBUPROFEN\n",
      " ### SUPRAX\n",
      " ### ZOMAX\n",
      "RAN ### VENTOLIN\n",
      "RON ### ATROVENT\n",
      "RAE ### PREDINSOLONE\n",
      "RAIE ### OMEPRAZOLE\n",
      "AOAOE ### VESICARE\n",
      "AOL ### PROPRANOLOL\n",
      "OE ### VIT E\n",
      " ### CREAM\n",
      "A ### LEVOTAB\n",
      "A ### URISEPT\n",
      "A ### CONTIFLO\n",
      "A ### TANAKAN\n",
      "SIN ### ASPIRIN\n",
      "AE ### TRI B\n",
      "AID ### KLACID\n",
      "AOION ### AMYDRAMINE\n",
      "AOL ### MUSCADOL\n",
      "OAIE ### NORMAL SALINE\n",
      "AE ### PANADOL\n",
      "RAIE ### ROCEPHIN\n",
      "EOAOE ### DEXAMETHASONE\n",
      "AI ### FAMOTIDINE\n",
      "RI ### CETRIZINE\n",
      "AO ### CYCLOGYL\n",
      "AO ### FAVIMOL\n",
      "A ### MALSOL SACHETS\n",
      "AOAON ### ALFACORT OINTMENT\n",
      "OA ### DESLORATADINE\n",
      " ### LACTO BACILLUS SACHET\n",
      "AI ### ANTINAL \n",
      "N ### AUGMENTIN\n",
      "AN ### GALCTOGIL\n",
      "AN ### GYNO - HYDRA\n",
      "AON ### SYMBION\n",
      "AON ### CIPRO\n",
      "OE ### SOLUPRED\n",
      "OAIN ### MUCOSOLVAN\n",
      "Correct characters predicted : 2.20%\n",
      "Correct words predicted      : 0.00%\n"
     ]
    }
   ],
   "source": [
    "correct_char = 0\n",
    "total_char = 0\n",
    "correct = 0\n",
    "test = pd.read_csv('/kaggle/input/traindata/try.csv')\n",
    "li=test['ID']\n",
    "li.to_list()\n",
    "li=li[0:60]\n",
    "for i in range(60):\n",
    "    pr = our_data[i]\n",
    "    tr =li[i]\n",
    "    tr=tr.upper()\n",
    "    print(pr,'###',tr)\n",
    "    total_char += len(tr)\n",
    "    \n",
    "    for j in range(min(len(tr), len(pr))):\n",
    "        if tr[j] == pr[j]:\n",
    "            correct_char += 1\n",
    "            \n",
    "    if pr == tr :\n",
    "        correct += 1 \n",
    "    \n",
    "print('Correct characters predicted : %.2f%%' %(correct_char*100/total_char))\n",
    "print('Correct words predicted      : %.2f%%' %(correct*100/1))"
   ]
  },
  {
   "cell_type": "code",
   "execution_count": 19,
   "id": "f84b635a",
   "metadata": {
    "execution": {
     "iopub.execute_input": "2022-07-03T02:53:17.366016Z",
     "iopub.status.busy": "2022-07-03T02:53:17.365192Z",
     "iopub.status.idle": "2022-07-03T02:53:39.258797Z",
     "shell.execute_reply": "2022-07-03T02:53:39.257884Z"
    },
    "papermill": {
     "duration": 26.434676,
     "end_time": "2022-07-03T02:53:39.258940",
     "exception": false,
     "start_time": "2022-07-03T02:53:12.824264",
     "status": "completed"
    },
    "tags": []
   },
   "outputs": [],
   "source": [
    "model.save('/kaggle/working/models/model1')"
   ]
  },
  {
   "cell_type": "code",
   "execution_count": 20,
   "id": "085b5807",
   "metadata": {
    "execution": {
     "iopub.execute_input": "2022-07-03T02:53:48.599680Z",
     "iopub.status.busy": "2022-07-03T02:53:48.598863Z",
     "iopub.status.idle": "2022-07-03T02:53:48.600841Z",
     "shell.execute_reply": "2022-07-03T02:53:48.601293Z"
    },
    "papermill": {
     "duration": 4.531243,
     "end_time": "2022-07-03T02:53:48.601441",
     "exception": false,
     "start_time": "2022-07-03T02:53:44.070198",
     "status": "completed"
    },
    "tags": []
   },
   "outputs": [],
   "source": [
    "#final_model.save(\"/kaggle/working/models/model2.h5\")"
   ]
  }
 ],
 "metadata": {
  "kernelspec": {
   "display_name": "Python 3",
   "language": "python",
   "name": "python3"
  },
  "language_info": {
   "codemirror_mode": {
    "name": "ipython",
    "version": 3
   },
   "file_extension": ".py",
   "mimetype": "text/x-python",
   "name": "python",
   "nbconvert_exporter": "python",
   "pygments_lexer": "ipython3",
   "version": "3.7.12"
  },
  "papermill": {
   "default_parameters": {},
   "duration": 1684.343095,
   "end_time": "2022-07-03T02:53:56.530065",
   "environment_variables": {},
   "exception": null,
   "input_path": "__notebook__.ipynb",
   "output_path": "__notebook__.ipynb",
   "parameters": {},
   "start_time": "2022-07-03T02:25:52.186970",
   "version": "2.3.3"
  }
 },
 "nbformat": 4,
 "nbformat_minor": 5
}
